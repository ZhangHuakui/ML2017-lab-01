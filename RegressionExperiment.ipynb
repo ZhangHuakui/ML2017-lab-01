{
 "cells": [
  {
   "cell_type": "code",
   "execution_count": 2,
   "metadata": {
    "collapsed": true
   },
   "outputs": [],
   "source": [
    "%matplotlib inline"
   ]
  },
  {
   "cell_type": "code",
   "execution_count": 6,
   "metadata": {},
   "outputs": [
    {
     "data": {
      "image/png": "[encoded data removed]",
      "text/plain": [
       "<matplotlib.figure.Figure at 0x22791b2ca90>"
      ]
     },
     "metadata": {},
     "output_type": "display_data"
    },
    {
     "name": "stdout",
     "output_type": "stream",
     "text": [
      "Final train loss is 3992.77267488\n",
      "Final validation loss is 1652.6082042\n"
     ]
    }
   ],
   "source": [
    "# -*- coding: utf-8 -*-\n",
    "from sklearn.datasets import load_svmlight_file\n",
    "from sklearn.model_selection import train_test_split\n",
    "import numpy as np\n",
    "from matplotlib import pyplot as plt\n",
    "import warnings\n",
    "warnings.filterwarnings('ignore')\n",
    "\n",
    "def get_data():\n",
    "    data = load_svmlight_file(\"E:/Desktop/机器学习课程/实验/实验一/housing_scale.txt\")\n",
    "    return data[0], data[1]\n",
    "\n",
    "#least squares loss\n",
    "def loss_function(X, y, param):\n",
    "    return ((np.dot(X, param) - y) ** 2).sum() / 2\n",
    "    \n",
    "\n",
    "def gradient(X, y, param):\n",
    "    return np.dot(X.T, np.dot(X, param) - y) / X.shape[0]\n",
    "\n",
    "#读取实验数据\n",
    "X, y = get_data()\n",
    "X = X.toarray()\n",
    "\n",
    "#在训练集前添加一列1\n",
    "X = np.c_[np.ones(len(X)), X]\n",
    "\n",
    "#数据集切分\n",
    "X_train,X_test, y_train, y_test = train_test_split(X, y, test_size=0.3, random_state=42)\n",
    "\n",
    "#参数初始化\n",
    "param = np.zeros(X_train.shape[1])\n",
    "\n",
    "train_loss = []\n",
    "validation_loss = []\n",
    "iteration_num = 1000\n",
    "for i in range(iteration_num):\n",
    "    #求梯度\n",
    "    G = gradient(X_train, y_train, param)\n",
    "    l_rate = 0.1\n",
    "    #更新参数\n",
    "    param = param - l_rate * G\n",
    "    train_loss.append(loss_function(X_train, y_train, param))\n",
    "    validation_loss.append(loss_function(X_test, y_test, param))\n",
    "\n",
    "#画图\n",
    "plt.plot(range(iteration_num),train_loss, label='train loss')\n",
    "plt.plot(range(iteration_num),validation_loss, label='validation loss')\n",
    "plt.xlabel('iteration')\n",
    "plt.ylabel('loss')\n",
    "plt.legend()\n",
    "plt.show()\n",
    "print(\"Final train loss is\", train_loss[-1])\n",
    "print(\"Final validation loss is\", validation_loss[-1])"
   ]
  }
 ],
 "metadata": {
  "kernelspec": {
   "display_name": "Python 3",
   "language": "python",
   "name": "python3"
  },
  "language_info": {
   "codemirror_mode": {
    "name": "ipython",
    "version": 3
   },
   "file_extension": ".py",
   "mimetype": "text/x-python",
   "name": "python",
   "nbconvert_exporter": "python",
   "pygments_lexer": "ipython3",
   "version": "3.6.3"
  }
 },
 "nbformat": 4,
 "nbformat_minor": 2
}
