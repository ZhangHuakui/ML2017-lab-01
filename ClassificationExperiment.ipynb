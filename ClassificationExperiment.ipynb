{
 "cells": [
  {
   "cell_type": "code",
   "execution_count": 1,
   "metadata": {
    "collapsed": true
   },
   "outputs": [],
   "source": [
    "%matplotlib inline"
   ]
  },
  {
   "cell_type": "code",
   "execution_count": 6,
   "metadata": {},
   "outputs": [
    {
     "data": {
      "image/png": "[encoded data removed]",
      "text/plain": [
       "<matplotlib.figure.Figure at 0x2754296f780>"
      ]
     },
     "metadata": {},
     "output_type": "display_data"
    },
    {
     "name": "stdout",
     "output_type": "stream",
     "text": [
      "Final train loss is 131.219377065\n",
      "Final validation loss is 53.548241848\n",
      "Accuracy is 0.864734299517\n"
     ]
    }
   ],
   "source": [
    "# -*- coding: utf-8 -*-\n",
    "from sklearn.datasets import load_svmlight_file\n",
    "from sklearn.model_selection import train_test_split\n",
    "import numpy as np\n",
    "from matplotlib import pyplot as plt\n",
    "import warnings\n",
    "warnings.filterwarnings('ignore')\n",
    "\n",
    "def get_data():\n",
    "    data = load_svmlight_file(\"E:/Desktop/机器学习课程/实验/实验一/australian_scale.txt\")\n",
    "    return data[0], data[1]\n",
    "\n",
    "def hinge_loss(x):\n",
    "    return max(0, 1 - x)\n",
    "\n",
    "#least squares loss\n",
    "def loss_function(X, y, param, C):\n",
    "    return (param ** 2).sum() / 2 + C * sum(map(hinge_loss, y * (np.dot(X, param))))\n",
    "\n",
    "def gradient(X, y, param, C):\n",
    "    temp = np.zeros(len(param))\n",
    "    for i in range(X.shape[0]):\n",
    "        if y[i] * np.dot(X[i,:], param) < 1:\n",
    "            temp += -y[i] * X[i,:]\n",
    "    return param + C * temp\n",
    "    \n",
    "\n",
    "#读取实验数据\n",
    "X, y = get_data()\n",
    "X = X.toarray()\n",
    "\n",
    "#在训练集前添加一列1\n",
    "X = np.c_[np.ones(len(X)), X]\n",
    "\n",
    "#数据集切分\n",
    "X_train,X_test, y_train, y_test = train_test_split(X, y, test_size=0.3, random_state=0)\n",
    "\n",
    "#参数初始化\n",
    "param = np.zeros(X_train.shape[1])\n",
    "C = 0.9\n",
    "#学习率\n",
    "l_rate = 0.0002\n",
    "\n",
    "train_loss = []\n",
    "validation_loss = []\n",
    "iteration_num = 100\n",
    "for i in range(iteration_num):\n",
    "    #求梯度\n",
    "    G = gradient(X_train, y_train, param, C)\n",
    "    \n",
    "    #更新参数\n",
    "    param = param - l_rate * G\n",
    "    train_loss.append(loss_function(X_train, y_train, param, C))\n",
    "    validation_loss.append(loss_function(X_test, y_test, param, C))\n",
    "    \n",
    "#画图\n",
    "plt.plot(range(iteration_num),train_loss, label='train loss')\n",
    "plt.plot(range(iteration_num),validation_loss, label='validation loss')\n",
    "plt.xlabel('iteration')\n",
    "plt.ylabel('loss')\n",
    "plt.legend()\n",
    "plt.show()\n",
    "print(\"Final train loss is\", train_loss[-1])\n",
    "print(\"Final validation loss is\", validation_loss[-1])\n",
    "\n",
    "threshold = 0\n",
    "predict = np.dot(X_test, param)\n",
    "predict = list(map(lambda x : 1 if x >= threshold else -1, predict))\n",
    "accuracy = (predict == y_test).sum() / y_test.size\n",
    "print(\"Accuracy is\", accuracy)"
   ]
  }
 ],
 "metadata": {
  "kernelspec": {
   "display_name": "Python 3",
   "language": "python",
   "name": "python3"
  },
  "language_info": {
   "codemirror_mode": {
    "name": "ipython",
    "version": 3
   },
   "file_extension": ".py",
   "mimetype": "text/x-python",
   "name": "python",
   "nbconvert_exporter": "python",
   "pygments_lexer": "ipython3",
   "version": "3.6.3"
  }
 },
 "nbformat": 4,
 "nbformat_minor": 2
}
